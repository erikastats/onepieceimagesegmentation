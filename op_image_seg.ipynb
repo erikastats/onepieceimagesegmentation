{
 "cells": [
  {
   "cell_type": "code",
   "execution_count": 1,
   "metadata": {},
   "outputs": [],
   "source": [
    "import json, os\n",
    "import numpy as np\n",
    "import cv2\n",
    "import pandas as pd\n",
    "# jspaths = sorted( [os.path.join(path + '/json/', f) for f in jspath])"
   ]
  },
  {
   "cell_type": "code",
   "execution_count": 4,
   "metadata": {},
   "outputs": [],
   "source": [
    "path = 'C:/Users/erika.borelli_skyspe/Documents/Brasil/OnePiece/manga'\n",
    "jspath = os.listdir(path)\n",
    "\n",
    "paths_dir = pd.DataFrame({'paths' : jspath })\n",
    "paths_dir['isjson'] = ['.json' in text for text in paths_dir.paths]\n",
    "paths_json = paths_dir.query(\"isjson == True\")\n",
    "paths_json\n",
    "\n",
    "jspaths = sorted( [ os.path.join(path + '/', f) for f in paths_json.paths])\n"
   ]
  },
  {
   "cell_type": "code",
   "execution_count": 5,
   "metadata": {},
   "outputs": [
    {
     "data": {
      "text/plain": [
       "1066"
      ]
     },
     "execution_count": 5,
     "metadata": {},
     "output_type": "execute_result"
    }
   ],
   "source": [
    "len(jspaths)"
   ]
  },
  {
   "cell_type": "code",
   "execution_count": 13,
   "metadata": {},
   "outputs": [
    {
     "data": {
      "text/plain": [
       "'C:/Users/erika.borelli_skyspe/Documents/Brasil/OnePiece/manga/op_chap_101_pg_10.json'"
      ]
     },
     "execution_count": 13,
     "metadata": {},
     "output_type": "execute_result"
    }
   ],
   "source": [
    "jspaths[1]"
   ]
  },
  {
   "cell_type": "code",
   "execution_count": 8,
   "metadata": {},
   "outputs": [],
   "source": [
    "Label_Class = {'narrator' : 0, 'character' : 1, 'box' : '2'}"
   ]
  },
  {
   "cell_type": "code",
   "execution_count": 30,
   "metadata": {},
   "outputs": [],
   "source": [
    "def convert(file, height, width,d):\n",
    "    all_labels = json.load(open(file))\n",
    "    contours =[]\n",
    "    for i_class_object in all_labels['shapes']:\n",
    "        i_label =  i_class_object.get('label')\n",
    "        # print(i_label)\n",
    "        countOfPoints = len(i_class_object['points'])\n",
    "        points = [None]*countOfPoints\n",
    "        i=0\n",
    "        for point_dict in i_class_object['points']:\n",
    "            x = int(point_dict[0])\n",
    "            y = int(point_dict[1])\n",
    "            points[i] = (x,y)\n",
    "            i+=1\n",
    "        points_= np.array(points)\n",
    "        # print(Label_Class.get(i_label))\n",
    "        points_label = (points_,Label_Class.get(i_label))\n",
    "        contours.append(points_label)\n",
    "    maskImage = np.zeros((height,width), dtype=np.uint8)\n",
    "    for contour in contours:\n",
    "        for i in range(width):\n",
    "             for j in range(height):  \n",
    "                if cv2.pointPolygonTest(contour[0], (i, j), False) > 0 : \n",
    "                    maskImage[j,i] = contour[1]\n",
    "    savePath = path + \"/mask/\" + name\n",
    "    cv2.imwrite(savePath, maskImage)\n",
    "    \n"
   ]
  },
  {
   "cell_type": "code",
   "execution_count": 29,
   "metadata": {},
   "outputs": [
    {
     "name": "stdout",
     "output_type": "stream",
     "text": [
      "[[963.8333333333334, 298.3333333333333], [675.5000000000001, 40.0]]\n",
      "[[673.8333333333334, 211.66666666666669], [497.16666666666686, 35.0]]\n",
      "[[467.16666666666686, 285.0], [322.16666666666686, 138.33333333333334]]\n",
      "[[250.5000000000001, 265.0], [93.83333333333337, 86.66666666666667]]\n",
      "[[787.1666666666669, 633.3333333333334], [955.5000000000001, 1185.0]]\n",
      "[[860.5000000000001, 1350.0], [788.8333333333334, 1223.3333333333333]]\n",
      "[[778.8333333333334, 1591.6666666666667], [660.5000000000001, 1200.0]]\n",
      "[[472.16666666666686, 1330.0], [342.16666666666686, 1171.6666666666667]]\n",
      "[[413.83333333333337, 1576.6666666666667], [288.83333333333337, 1385.0]]\n",
      "[[332.16666666666686, 1278.3333333333333], [172.16666666666674, 1158.3333333333333]]\n"
     ]
    }
   ],
   "source": [
    "all_labels = json.load(open('C:/Users/erika.borelli_skyspe/Documents/Brasil/OnePiece/manga/op_chap_101_pg_10.json'))\n",
    "contours =[]\n",
    "for i_class_object in all_labels['shapes']:\n",
    "    i_label =  i_class_object.get('label')\n",
    "        # print(i_label)\n",
    "    countOfPoints = len(i_class_object['points'])\n",
    "    points = [None]*countOfPoints\n",
    "    i=0\n",
    "    print(i_class_object['points'])\n",
    "    # print(points)"
   ]
  },
  {
   "cell_type": "code",
   "execution_count": null,
   "metadata": {},
   "outputs": [],
   "source": [
    "all_labels['shapes']"
   ]
  },
  {
   "cell_type": "code",
   "execution_count": null,
   "metadata": {},
   "outputs": [],
   "source": [
    "convert"
   ]
  },
  {
   "cell_type": "code",
   "execution_count": 31,
   "metadata": {},
   "outputs": [
    {
     "name": "stdout",
     "output_type": "stream",
     "text": [
      "op_chap_100_pg_17.png\n",
      "op_chap_101_pg_10.png\n",
      "op_chap_102_pg_12.png\n",
      "op_chap_102_pg_8.png\n",
      "op_chap_103_pg_16.png\n",
      "op_chap_104_pg_15.png\n",
      "op_chap_104_pg_3.png\n",
      "op_chap_104_pg_4.png\n",
      "op_chap_105_pg_10.png\n",
      "op_chap_106_pg_3.png\n",
      "op_chap_106_pg_9.png\n",
      "op_chap_107_pg_12.png\n",
      "op_chap_107_pg_15.png\n",
      "op_chap_107_pg_7.png\n",
      "op_chap_108_pg_18.png\n",
      "op_chap_108_pg_3.png\n",
      "op_chap_109_pg_13.png\n",
      "op_chap_110_pg_5.png\n",
      "op_chap_111_pg_2.png\n",
      "op_chap_111_pg_9.png\n",
      "op_chap_112_pg_12.png\n",
      "op_chap_112_pg_2.png\n",
      "op_chap_112_pg_4.png\n",
      "op_chap_112_pg_5.png\n",
      "op_chap_113_pg_18.png\n",
      "op_chap_113_pg_5.png\n",
      "op_chap_114_pg_13.png\n",
      "op_chap_115_pg_6.png\n",
      "op_chap_116_pg_12.png\n",
      "op_chap_116_pg_6.png\n",
      "op_chap_117_pg_10.png\n",
      "op_chap_117_pg_15.png\n",
      "op_chap_118_pg_14.png\n",
      "op_chap_119_pg_10.png\n",
      "op_chap_11_pg_10.png\n",
      "op_chap_120_pg_12.png\n",
      "op_chap_120_pg_7.png\n",
      "op_chap_121_pg_13.png\n",
      "op_chap_121_pg_6.png\n",
      "op_chap_122_pg_4.png\n",
      "op_chap_122_pg_7.png\n",
      "op_chap_123_pg_12.png\n",
      "op_chap_123_pg_14.png\n",
      "op_chap_123_pg_17.png\n",
      "op_chap_124_pg_12.png\n",
      "op_chap_124_pg_13.png\n",
      "op_chap_124_pg_2.png\n",
      "op_chap_124_pg_8.png\n",
      "op_chap_125_pg_11.png\n",
      "op_chap_125_pg_6.png\n",
      "op_chap_125_pg_8.png\n",
      "op_chap_126_pg_13.png\n",
      "op_chap_126_pg_17.png\n",
      "op_chap_127_pg_19.png\n",
      "op_chap_127_pg_20.png\n",
      "op_chap_128_pg_1.png\n",
      "op_chap_128_pg_10.png\n",
      "op_chap_129_pg_12.png\n",
      "op_chap_129_pg_5.png\n",
      "op_chap_12_pg_12.png\n",
      "op_chap_12_pg_17.png\n",
      "op_chap_12_pg_6.png\n",
      "op_chap_130_pg_8.png\n",
      "op_chap_130_pg_9.png\n",
      "op_chap_131_pg_19.png\n",
      "op_chap_131_pg_3.png\n",
      "op_chap_131_pg_5.png\n",
      "op_chap_131_pg_7.png\n",
      "op_chap_132_pg_12.png\n",
      "op_chap_132_pg_13.png\n",
      "op_chap_132_pg_18.png\n",
      "op_chap_132_pg_5.png\n",
      "op_chap_132_pg_8.png\n",
      "op_chap_133_pg_7.png\n",
      "op_chap_134_pg_11.png\n",
      "op_chap_134_pg_5.png\n",
      "op_chap_135_pg_11.png\n",
      "op_chap_135_pg_12.png\n",
      "op_chap_135_pg_6.png\n",
      "op_chap_136_pg_12.png\n",
      "op_chap_136_pg_4.png\n",
      "op_chap_136_pg_6.png\n",
      "op_chap_137_pg_11.png\n",
      "op_chap_137_pg_12.png\n",
      "op_chap_137_pg_18.png\n",
      "op_chap_137_pg_19.png\n",
      "op_chap_138_pg_11.png\n",
      "op_chap_139_pg_4.png\n",
      "op_chap_139_pg_5.png\n",
      "op_chap_13_pg_3.png\n",
      "op_chap_140_pg_15.png\n",
      "op_chap_140_pg_9.png\n",
      "op_chap_141_pg_4.png\n",
      "op_chap_142_pg_10.png\n",
      "op_chap_143_pg_8.png\n",
      "op_chap_144_pg_11.png\n",
      "op_chap_144_pg_13.png\n",
      "op_chap_144_pg_14.png\n",
      "op_chap_144_pg_4.png\n",
      "op_chap_145_pg_10.png\n",
      "op_chap_145_pg_11.png\n",
      "op_chap_145_pg_6.png\n",
      "op_chap_146_pg_15.png\n",
      "op_chap_146_pg_25.png\n",
      "op_chap_147_pg_15.png\n",
      "op_chap_147_pg_18.png\n",
      "op_chap_147_pg_8.png\n",
      "op_chap_147_pg_9.png\n",
      "op_chap_149_pg_19.png\n",
      "op_chap_149_pg_4.png\n",
      "op_chap_149_pg_8.png\n",
      "op_chap_14_pg_13.png\n",
      "op_chap_14_pg_5.png\n",
      "op_chap_14_pg_6.png\n",
      "op_chap_14_pg_7.png\n",
      "op_chap_14_pg_8.png\n",
      "op_chap_14_pg_9.png\n",
      "op_chap_150_pg_19.png\n",
      "op_chap_150_pg_7.png\n",
      "op_chap_151_pg_11.png\n",
      "op_chap_151_pg_12.png\n",
      "op_chap_151_pg_18.png\n",
      "op_chap_151_pg_7.png\n",
      "op_chap_152_pg_10.png\n",
      "op_chap_152_pg_4.png\n",
      "op_chap_153_pg_5.png\n",
      "op_chap_154_pg_3.png\n",
      "op_chap_154_pg_4.png\n",
      "op_chap_155_pg_10.png\n",
      "op_chap_155_pg_14.png\n",
      "op_chap_158_pg_12.png\n",
      "op_chap_158_pg_14.png\n",
      "op_chap_159_pg_18.png\n",
      "op_chap_15_pg_16.png\n",
      "op_chap_15_pg_5.png\n",
      "op_chap_15_pg_8.png\n",
      "op_chap_160_pg_12.png\n",
      "op_chap_160_pg_13.png\n",
      "op_chap_160_pg_3.png\n",
      "op_chap_161_pg_17.png\n",
      "op_chap_161_pg_3.png\n",
      "op_chap_162_pg_10.png\n",
      "op_chap_162_pg_14.png\n",
      "op_chap_163_pg_12.png\n",
      "op_chap_164_pg_17.png\n",
      "op_chap_165_pg_17.png\n",
      "op_chap_165_pg_8.png\n",
      "op_chap_166_pg_18.png\n",
      "op_chap_166_pg_2.png\n",
      "op_chap_166_pg_8.png\n",
      "op_chap_168_pg_16.png\n",
      "op_chap_169_pg_17.png\n",
      "op_chap_169_pg_8.png\n",
      "op_chap_16_pg_13.png\n",
      "op_chap_170_pg_10.png\n",
      "op_chap_170_pg_17.png\n",
      "op_chap_170_pg_6.png\n",
      "op_chap_170_pg_8.png\n",
      "op_chap_171_pg_13.png\n",
      "op_chap_171_pg_5.png\n",
      "op_chap_171_pg_6.png\n",
      "op_chap_172_pg_16.png\n",
      "op_chap_172_pg_9.png\n",
      "op_chap_173_pg_12.png\n",
      "op_chap_173_pg_16.png\n",
      "op_chap_173_pg_4.png\n",
      "op_chap_174_pg_13.png\n",
      "op_chap_174_pg_18.png\n",
      "op_chap_175_pg_16.png\n",
      "op_chap_176_pg_17.png\n",
      "op_chap_176_pg_2.png\n",
      "op_chap_177_pg_18.png\n",
      "op_chap_177_pg_9.png\n",
      "op_chap_178_pg_11.png\n",
      "op_chap_178_pg_20.png\n",
      "op_chap_179_pg_15.png\n",
      "op_chap_179_pg_18.png\n",
      "op_chap_17_pg_12.png\n",
      "op_chap_17_pg_5.png\n",
      "op_chap_180_pg_13.png\n",
      "op_chap_180_pg_15.png\n",
      "op_chap_180_pg_19.png\n",
      "op_chap_180_pg_3.png\n",
      "op_chap_180_pg_7.png\n",
      "op_chap_181_pg_12.png\n",
      "op_chap_181_pg_17.png\n",
      "op_chap_181_pg_7.png\n",
      "op_chap_181_pg_8.png\n",
      "op_chap_182_pg_10.png\n",
      "op_chap_182_pg_5.png\n",
      "op_chap_183_pg_13.png\n",
      "op_chap_183_pg_18.png\n",
      "op_chap_183_pg_9.png\n",
      "op_chap_184_pg_5.png\n",
      "op_chap_185_pg_3.png\n",
      "op_chap_185_pg_9.png\n",
      "op_chap_186_pg_17.png\n",
      "op_chap_186_pg_3.png\n",
      "op_chap_186_pg_7.png\n",
      "op_chap_187_pg_20.png\n",
      "op_chap_188_pg_19.png\n",
      "op_chap_189_pg_14.png\n",
      "op_chap_189_pg_15.png\n",
      "op_chap_189_pg_6.png\n",
      "op_chap_189_pg_9.png\n",
      "op_chap_18_pg_11.png\n",
      "op_chap_18_pg_15.png\n",
      "op_chap_18_pg_25.png\n",
      "op_chap_190_pg_9.png\n",
      "op_chap_191_pg_7.png\n",
      "op_chap_191_pg_9.png\n",
      "op_chap_192_pg_15.png\n",
      "op_chap_192_pg_8.png\n",
      "op_chap_193_pg_10.png\n",
      "op_chap_193_pg_2.png\n",
      "op_chap_193_pg_3.png\n",
      "op_chap_194_pg_11.png\n",
      "op_chap_194_pg_13.png\n",
      "op_chap_194_pg_3.png\n",
      "op_chap_194_pg_9.png\n",
      "op_chap_195_pg_11.png\n",
      "op_chap_195_pg_14.png\n",
      "op_chap_195_pg_16.png\n",
      "op_chap_195_pg_4.png\n",
      "op_chap_196_pg_19.png\n",
      "op_chap_197_pg_8.png\n",
      "op_chap_197_pg_9.png\n",
      "op_chap_198_pg_15.png\n",
      "op_chap_198_pg_5.png\n",
      "op_chap_198_pg_6.png\n",
      "op_chap_199_pg_11.png\n",
      "op_chap_199_pg_8.png\n",
      "op_chap_1_pg_10.png\n",
      "op_chap_1_pg_11.png\n",
      "op_chap_1_pg_12.png\n",
      "op_chap_1_pg_13.png\n",
      "op_chap_1_pg_14.png\n",
      "op_chap_1_pg_15.png\n",
      "op_chap_1_pg_16.png\n",
      "op_chap_1_pg_17.png\n",
      "op_chap_1_pg_18.png\n",
      "op_chap_1_pg_19.png\n",
      "op_chap_1_pg_20.png\n",
      "op_chap_1_pg_21.png\n",
      "op_chap_1_pg_22.png\n",
      "op_chap_1_pg_23.png\n",
      "op_chap_1_pg_24.png\n",
      "op_chap_1_pg_25.png\n",
      "op_chap_1_pg_26.png\n",
      "op_chap_1_pg_27.png\n",
      "op_chap_1_pg_28.png\n",
      "op_chap_1_pg_29.png\n",
      "op_chap_1_pg_30.png\n",
      "op_chap_1_pg_31.png\n",
      "op_chap_1_pg_32.png\n",
      "op_chap_1_pg_33.png\n",
      "op_chap_1_pg_34.png\n",
      "op_chap_1_pg_35.png\n",
      "op_chap_1_pg_36.png\n",
      "op_chap_1_pg_37.png\n",
      "op_chap_1_pg_38.png\n",
      "op_chap_1_pg_39.png\n",
      "op_chap_1_pg_40.png\n",
      "op_chap_1_pg_41.png\n",
      "op_chap_1_pg_42.png\n",
      "op_chap_1_pg_43.png\n",
      "op_chap_1_pg_44.png\n",
      "op_chap_1_pg_45.png\n",
      "op_chap_1_pg_46.png\n",
      "op_chap_1_pg_47.png\n",
      "op_chap_1_pg_48.png\n",
      "op_chap_1_pg_49.png\n",
      "op_chap_1_pg_50.png\n",
      "op_chap_1_pg_51.png\n",
      "op_chap_1_pg_52.png\n",
      "op_chap_1_pg_53.png\n",
      "op_chap_1_pg_54.png\n",
      "op_chap_1_pg_55.png\n",
      "op_chap_1_pg_56.png\n",
      "op_chap_1_pg_6.png\n",
      "op_chap_1_pg_8.png\n",
      "op_chap_1_pg_9.png\n",
      "op_chap_200_pg_15.png\n",
      "op_chap_201_pg_12.png\n",
      "op_chap_201_pg_6.png\n",
      "op_chap_201_pg_7.png\n",
      "op_chap_201_pg_9.png\n",
      "op_chap_202_pg_15.png\n",
      "op_chap_202_pg_16.png\n",
      "op_chap_205_pg_16.png\n",
      "op_chap_205_pg_19.png\n",
      "op_chap_206_pg_15.png\n",
      "op_chap_206_pg_22.png\n",
      "op_chap_207_pg_4.png\n",
      "op_chap_207_pg_7.png\n",
      "op_chap_208_pg_10.png\n",
      "op_chap_208_pg_11.png\n",
      "op_chap_208_pg_12.png\n",
      "op_chap_208_pg_15.png\n",
      "op_chap_20_pg_10.png\n",
      "op_chap_20_pg_17.png\n",
      "op_chap_20_pg_2.png\n",
      "op_chap_20_pg_5.png\n",
      "op_chap_210_pg_13.png\n",
      "op_chap_210_pg_7.png\n",
      "op_chap_211_pg_14.png\n",
      "op_chap_212_pg_2.png\n",
      "op_chap_213_pg_17.png\n",
      "op_chap_214_pg_10.png\n",
      "op_chap_214_pg_14.png\n",
      "op_chap_214_pg_17.png\n",
      "op_chap_214_pg_18.png\n",
      "op_chap_214_pg_4.png\n",
      "op_chap_215_pg_17.png\n",
      "op_chap_215_pg_18.png\n",
      "op_chap_215_pg_4.png\n",
      "op_chap_215_pg_7.png\n",
      "op_chap_216_pg_11.png\n",
      "op_chap_216_pg_5.png\n",
      "op_chap_217_pg_10.png\n",
      "op_chap_219_pg_12.png\n",
      "op_chap_219_pg_14.png\n",
      "op_chap_21_pg_18.png\n",
      "op_chap_21_pg_4.png\n",
      "op_chap_220_pg_15.png\n",
      "op_chap_220_pg_7.png\n",
      "op_chap_222_pg_11.png\n",
      "op_chap_222_pg_15.png\n",
      "op_chap_222_pg_9.png\n",
      "op_chap_223_pg_13.png\n",
      "op_chap_223_pg_19.png\n",
      "op_chap_224_pg_7.png\n",
      "op_chap_225_pg_12.png\n",
      "op_chap_226_pg_6.png\n",
      "op_chap_227_pg_11.png\n",
      "op_chap_227_pg_8.png\n",
      "op_chap_228_pg_13.png\n",
      "op_chap_228_pg_2.png\n",
      "op_chap_228_pg_9.png\n",
      "op_chap_229_pg_13.png\n",
      "op_chap_229_pg_14.png\n",
      "op_chap_229_pg_18.png\n",
      "op_chap_229_pg_2.png\n",
      "op_chap_229_pg_3.png\n",
      "op_chap_229_pg_6.png\n",
      "op_chap_22_pg_13.png\n",
      "op_chap_22_pg_17.png\n",
      "op_chap_22_pg_18.png\n",
      "op_chap_230_pg_15.png\n",
      "op_chap_231_pg_15.png\n",
      "op_chap_231_pg_18.png\n",
      "op_chap_232_pg_4.png\n",
      "op_chap_232_pg_6.png\n",
      "op_chap_232_pg_9.png\n",
      "op_chap_233_pg_17.png\n",
      "op_chap_234_pg_13.png\n",
      "op_chap_235_pg_18.png\n",
      "op_chap_238_pg_6.png\n",
      "op_chap_239_pg_15.png\n",
      "op_chap_239_pg_3.png\n",
      "op_chap_239_pg_6.png\n",
      "op_chap_23_pg_12.png\n",
      "op_chap_23_pg_18.png\n",
      "op_chap_23_pg_2.png\n",
      "op_chap_242_pg_12.png\n",
      "op_chap_242_pg_2.png\n",
      "op_chap_242_pg_7.png\n",
      "op_chap_243_pg_10.png\n",
      "op_chap_244_pg_14.png\n",
      "op_chap_244_pg_15.png\n",
      "op_chap_244_pg_4.png\n",
      "op_chap_245_pg_15.png\n",
      "op_chap_245_pg_16.png\n",
      "op_chap_245_pg_17.png\n",
      "op_chap_245_pg_8.png\n",
      "op_chap_246_pg_15.png\n",
      "op_chap_246_pg_8.png\n",
      "op_chap_247_pg_20.png\n",
      "op_chap_248_pg_11.png\n",
      "op_chap_248_pg_17.png\n",
      "op_chap_248_pg_19.png\n",
      "op_chap_249_pg_10.png\n",
      "op_chap_249_pg_3.png\n",
      "op_chap_249_pg_5.png\n",
      "op_chap_24_pg_14.png\n",
      "op_chap_24_pg_3.png\n",
      "op_chap_24_pg_6.png\n",
      "op_chap_250_pg_10.png\n",
      "op_chap_250_pg_11.png\n",
      "op_chap_251_pg_13.png\n",
      "op_chap_251_pg_17.png\n",
      "op_chap_252_pg_19.png\n",
      "op_chap_252_pg_7.png\n",
      "op_chap_252_pg_9.png\n",
      "op_chap_253_pg_11.png\n",
      "op_chap_253_pg_16.png\n",
      "op_chap_254_pg_10.png\n",
      "op_chap_254_pg_8.png\n",
      "op_chap_255_pg_13.png\n",
      "op_chap_256_pg_9.png\n",
      "op_chap_257_pg_15.png\n",
      "op_chap_257_pg_18.png\n",
      "op_chap_258_pg_12.png\n",
      "op_chap_258_pg_6.png\n",
      "op_chap_259_pg_14.png\n",
      "op_chap_259_pg_5.png\n",
      "op_chap_25_pg_17.png\n",
      "op_chap_260_pg_10.png\n",
      "op_chap_260_pg_13.png\n",
      "op_chap_260_pg_9.png\n",
      "op_chap_261_pg_2.png\n",
      "op_chap_261_pg_3.png\n",
      "op_chap_261_pg_8.png\n",
      "op_chap_262_pg_12.png\n",
      "op_chap_262_pg_15.png\n",
      "op_chap_262_pg_17.png\n",
      "op_chap_262_pg_4.png\n",
      "op_chap_263_pg_16.png\n",
      "op_chap_263_pg_18.png\n",
      "op_chap_263_pg_9.png\n",
      "op_chap_264_pg_11.png\n",
      "op_chap_264_pg_19.png\n",
      "op_chap_264_pg_3.png\n",
      "op_chap_265_pg_10.png\n",
      "op_chap_266_pg_10.png\n",
      "op_chap_266_pg_11.png\n",
      "op_chap_266_pg_16.png\n",
      "op_chap_266_pg_5.png\n",
      "op_chap_267_pg_11.png\n",
      "op_chap_267_pg_3.png\n",
      "op_chap_267_pg_8.png\n",
      "op_chap_268_pg_14.png\n",
      "op_chap_268_pg_15.png\n",
      "op_chap_269_pg_13.png\n",
      "op_chap_26_pg_17.png\n",
      "op_chap_26_pg_18.png\n",
      "op_chap_26_pg_19.png\n",
      "op_chap_26_pg_2.png\n",
      "op_chap_26_pg_8.png\n",
      "op_chap_270_pg_13.png\n",
      "op_chap_270_pg_14.png\n",
      "op_chap_270_pg_7.png\n",
      "op_chap_272_pg_16.png\n",
      "op_chap_273_pg_12.png\n",
      "op_chap_274_pg_5.png\n",
      "op_chap_274_pg_6.png\n",
      "op_chap_275_pg_11.png\n",
      "op_chap_275_pg_14.png\n",
      "op_chap_275_pg_19.png\n",
      "op_chap_276_pg_11.png\n",
      "op_chap_276_pg_16.png\n",
      "op_chap_277_pg_14.png\n",
      "op_chap_277_pg_16.png\n",
      "op_chap_277_pg_4.png\n",
      "op_chap_277_pg_8.png\n",
      "op_chap_278_pg_4.png\n",
      "op_chap_278_pg_8.png\n",
      "op_chap_279_pg_13.png\n",
      "op_chap_27_pg_13.png\n",
      "op_chap_27_pg_20.png\n",
      "op_chap_27_pg_23.png\n",
      "op_chap_280_pg_11.png\n",
      "op_chap_280_pg_15.png\n",
      "op_chap_280_pg_4.png\n",
      "op_chap_281_pg_15.png\n",
      "op_chap_281_pg_4.png\n",
      "op_chap_282_pg_11.png\n",
      "op_chap_283_pg_14.png\n",
      "op_chap_284_pg_11.png\n",
      "op_chap_284_pg_18.png\n",
      "op_chap_285_pg_3.png\n",
      "op_chap_285_pg_7.png\n",
      "op_chap_286_pg_10.png\n",
      "op_chap_286_pg_18.png\n",
      "op_chap_288_pg_10.png\n",
      "op_chap_288_pg_13.png\n",
      "op_chap_289_pg_7.png\n",
      "op_chap_28_pg_1.png\n",
      "op_chap_290_pg_13.png\n",
      "op_chap_291_pg_15.png\n",
      "op_chap_291_pg_3.png\n",
      "op_chap_291_pg_5.png\n",
      "op_chap_292_pg_6.png\n",
      "op_chap_293_pg_18.png\n",
      "op_chap_294_pg_2.png\n",
      "op_chap_294_pg_3.png\n",
      "op_chap_294_pg_9.png\n",
      "op_chap_296_pg_10.png\n",
      "op_chap_296_pg_14.png\n",
      "op_chap_296_pg_15.png\n",
      "op_chap_296_pg_17.png\n",
      "op_chap_298_pg_7.png\n",
      "op_chap_299_pg_14.png\n",
      "op_chap_299_pg_15.png\n",
      "op_chap_2_pg_1.png\n",
      "op_chap_2_pg_12.png\n",
      "op_chap_2_pg_14.png\n",
      "op_chap_2_pg_15.png\n",
      "op_chap_2_pg_16.png\n",
      "op_chap_2_pg_21.png\n",
      "op_chap_300_pg_5.png\n",
      "op_chap_300_pg_9.png\n",
      "op_chap_301_pg_5.png\n",
      "op_chap_302_pg_15.png\n",
      "op_chap_302_pg_18.png\n",
      "op_chap_302_pg_5.png\n",
      "op_chap_303_pg_11.png\n",
      "op_chap_303_pg_2.png\n",
      "op_chap_304_pg_16.png\n",
      "op_chap_304_pg_19.png\n",
      "op_chap_304_pg_6.png\n",
      "op_chap_305_pg_13.png\n",
      "op_chap_305_pg_14.png\n",
      "op_chap_306_pg_22.png\n",
      "op_chap_306_pg_24.png\n",
      "op_chap_307_pg_13.png\n",
      "op_chap_307_pg_14.png\n",
      "op_chap_307_pg_17.png\n",
      "op_chap_307_pg_3.png\n",
      "op_chap_307_pg_5.png\n",
      "op_chap_308_pg_15.png\n",
      "op_chap_308_pg_17.png\n",
      "op_chap_30_pg_11.png\n",
      "op_chap_30_pg_4.png\n",
      "op_chap_310_pg_19.png\n",
      "op_chap_310_pg_7.png\n",
      "op_chap_311_pg_10.png\n",
      "op_chap_311_pg_14.png\n",
      "op_chap_311_pg_18.png\n",
      "op_chap_312_pg_3.png\n",
      "op_chap_312_pg_5.png\n",
      "op_chap_312_pg_7.png\n",
      "op_chap_313_pg_18.png\n",
      "op_chap_314_pg_10.png\n",
      "op_chap_314_pg_12.png\n",
      "op_chap_314_pg_2.png\n",
      "op_chap_314_pg_6.png\n",
      "op_chap_314_pg_9.png\n",
      "op_chap_315_pg_12.png\n",
      "op_chap_315_pg_14.png\n",
      "op_chap_315_pg_16.png\n",
      "op_chap_315_pg_17.png\n",
      "op_chap_315_pg_18.png\n",
      "op_chap_316_pg_10.png\n",
      "op_chap_316_pg_18.png\n",
      "op_chap_318_pg_2.png\n",
      "op_chap_318_pg_7.png\n",
      "op_chap_318_pg_9.png\n",
      "op_chap_319_pg_8.png\n",
      "op_chap_31_pg_2.png\n",
      "op_chap_31_pg_8.png\n",
      "op_chap_320_pg_12.png\n",
      "op_chap_320_pg_16.png\n",
      "op_chap_320_pg_17.png\n",
      "op_chap_320_pg_18.png\n",
      "op_chap_321_pg_11.png\n",
      "op_chap_322_pg_14.png\n",
      "op_chap_322_pg_9.png\n",
      "op_chap_323_pg_11.png\n",
      "op_chap_323_pg_13.png\n",
      "op_chap_324_pg_12.png\n",
      "op_chap_324_pg_14.png\n",
      "op_chap_325_pg_12.png\n",
      "op_chap_325_pg_7.png\n",
      "op_chap_325_pg_8.png\n",
      "op_chap_326_pg_12.png\n",
      "op_chap_326_pg_17.png\n",
      "op_chap_326_pg_3.png\n",
      "op_chap_327_pg_12.png\n",
      "op_chap_327_pg_19.png\n",
      "op_chap_328_pg_13.png\n",
      "op_chap_328_pg_20.png\n",
      "op_chap_329_pg_14.png\n",
      "op_chap_329_pg_9.png\n",
      "op_chap_32_pg_8.png\n",
      "op_chap_330_pg_16.png\n",
      "op_chap_331_pg_14.png\n",
      "op_chap_331_pg_9.png\n",
      "op_chap_332_pg_13.png\n",
      "op_chap_332_pg_2.png\n",
      "op_chap_332_pg_4.png\n",
      "op_chap_332_pg_5.png\n",
      "op_chap_332_pg_7.png\n",
      "op_chap_333_pg_12.png\n",
      "op_chap_333_pg_16.png\n",
      "op_chap_334_pg_13.png\n",
      "op_chap_335_pg_18.png\n",
      "op_chap_335_pg_6.png\n",
      "op_chap_336_pg_4.png\n",
      "op_chap_337_pg_13.png\n",
      "op_chap_337_pg_17.png\n",
      "op_chap_338_pg_3.png\n",
      "op_chap_338_pg_9.png\n",
      "op_chap_339_pg_15.png\n",
      "op_chap_339_pg_2.png\n",
      "op_chap_339_pg_8.png\n",
      "op_chap_33_pg_14.png\n",
      "op_chap_33_pg_17.png\n",
      "op_chap_33_pg_3.png\n",
      "op_chap_33_pg_4.png\n",
      "op_chap_340_pg_5.png\n",
      "op_chap_340_pg_6.png\n",
      "op_chap_340_pg_8.png\n",
      "op_chap_341_pg_11.png\n",
      "op_chap_341_pg_12.png\n",
      "op_chap_341_pg_15.png\n",
      "op_chap_341_pg_17.png\n",
      "op_chap_342_pg_8.png\n",
      "op_chap_343_pg_11.png\n",
      "op_chap_343_pg_13.png\n",
      "op_chap_343_pg_16.png\n",
      "op_chap_343_pg_5.png\n",
      "op_chap_344_pg_7.png\n",
      "op_chap_344_pg_9.png\n",
      "op_chap_345_pg_13.png\n",
      "op_chap_346_pg_14.png\n",
      "op_chap_346_pg_5.png\n",
      "op_chap_346_pg_9.png\n",
      "op_chap_347_pg_17.png\n",
      "op_chap_348_pg_15.png\n",
      "op_chap_348_pg_18.png\n",
      "op_chap_349_pg_11.png\n",
      "op_chap_349_pg_12.png\n",
      "op_chap_34_pg_13.png\n",
      "op_chap_34_pg_19.png\n",
      "op_chap_350_pg_11.png\n",
      "op_chap_350_pg_15.png\n",
      "op_chap_350_pg_18.png\n",
      "op_chap_351_pg_11.png\n",
      "op_chap_351_pg_4.png\n",
      "op_chap_351_pg_8.png\n",
      "op_chap_352_pg_15.png\n",
      "op_chap_353_pg_11.png\n",
      "op_chap_353_pg_19.png\n",
      "op_chap_353_pg_4.png\n",
      "op_chap_353_pg_8.png\n",
      "op_chap_353_pg_9.png\n",
      "op_chap_354_pg_10.png\n",
      "op_chap_354_pg_9.png\n",
      "op_chap_355_pg_12.png\n",
      "op_chap_355_pg_13.png\n",
      "op_chap_355_pg_8.png\n",
      "op_chap_356_pg_14.png\n",
      "op_chap_357_pg_12.png\n",
      "op_chap_357_pg_17.png\n",
      "op_chap_357_pg_6.png\n",
      "op_chap_358_pg_25.png\n",
      "op_chap_359_pg_12.png\n",
      "op_chap_359_pg_13.png\n",
      "op_chap_35_pg_17.png\n",
      "op_chap_35_pg_3.png\n",
      "op_chap_360_pg_17.png\n",
      "op_chap_360_pg_8.png\n",
      "op_chap_362_pg_7.png\n",
      "op_chap_363_pg_14.png\n",
      "op_chap_363_pg_3.png\n",
      "op_chap_363_pg_5.png\n",
      "op_chap_364_pg_15.png\n",
      "op_chap_365_pg_10.png\n",
      "op_chap_367_pg_13.png\n",
      "op_chap_367_pg_17.png\n",
      "op_chap_367_pg_6.png\n",
      "op_chap_369_pg_19.png\n",
      "op_chap_370_pg_18.png\n",
      "op_chap_370_pg_2.png\n",
      "op_chap_371_pg_5.png\n",
      "op_chap_372_pg_10.png\n",
      "op_chap_372_pg_16.png\n",
      "op_chap_373_pg_10.png\n",
      "op_chap_373_pg_13.png\n",
      "op_chap_373_pg_14.png\n",
      "op_chap_373_pg_17.png\n",
      "op_chap_373_pg_5.png\n",
      "op_chap_373_pg_9.png\n",
      "op_chap_375_pg_16.png\n",
      "op_chap_376_pg_14.png\n",
      "op_chap_376_pg_15.png\n",
      "op_chap_376_pg_4.png\n",
      "op_chap_378_pg_11.png\n",
      "op_chap_379_pg_13.png\n",
      "op_chap_379_pg_16.png\n",
      "op_chap_379_pg_3.png\n",
      "op_chap_379_pg_5.png\n",
      "op_chap_37_pg_10.png\n",
      "op_chap_37_pg_13.png\n",
      "op_chap_37_pg_14.png\n",
      "op_chap_37_pg_17.png\n",
      "op_chap_380_pg_11.png\n",
      "op_chap_380_pg_16.png\n",
      "op_chap_381_pg_18.png\n",
      "op_chap_381_pg_6.png\n",
      "op_chap_382_pg_13.png\n",
      "op_chap_382_pg_3.png\n",
      "op_chap_383_pg_13.png\n",
      "op_chap_384_pg_5.png\n",
      "op_chap_385_pg_11.png\n",
      "op_chap_385_pg_15.png\n",
      "op_chap_386_pg_7.png\n",
      "op_chap_388_pg_7.png\n",
      "op_chap_389_pg_10.png\n",
      "op_chap_389_pg_20.png\n",
      "op_chap_38_pg_14.png\n",
      "op_chap_38_pg_7.png\n",
      "op_chap_390_pg_15.png\n",
      "op_chap_390_pg_16.png\n",
      "op_chap_391_pg_18.png\n",
      "op_chap_392_pg_15.png\n",
      "op_chap_392_pg_19.png\n",
      "op_chap_392_pg_8.png\n",
      "op_chap_393_pg_10.png\n",
      "op_chap_393_pg_16.png\n",
      "op_chap_394_pg_14.png\n",
      "op_chap_394_pg_3.png\n",
      "op_chap_395_pg_13.png\n",
      "op_chap_395_pg_3.png\n",
      "op_chap_395_pg_7.png\n",
      "op_chap_396_pg_7.png\n",
      "op_chap_397_pg_11.png\n",
      "op_chap_397_pg_12.png\n",
      "op_chap_397_pg_7.png\n",
      "op_chap_398_pg_4.png\n",
      "op_chap_39_pg_12.png\n",
      "op_chap_39_pg_3.png\n",
      "op_chap_3_pg_18.png\n",
      "op_chap_400_pg_12.png\n",
      "op_chap_400_pg_14.png\n",
      "op_chap_401_pg_13.png\n",
      "op_chap_401_pg_16.png\n",
      "op_chap_402_pg_10.png\n",
      "op_chap_402_pg_5.png\n",
      "op_chap_403_pg_19.png\n",
      "op_chap_403_pg_3.png\n",
      "op_chap_404_pg_11.png\n",
      "op_chap_404_pg_15.png\n",
      "op_chap_404_pg_17.png\n",
      "op_chap_404_pg_5.png\n",
      "op_chap_404_pg_6.png\n",
      "op_chap_405_pg_13.png\n",
      "op_chap_405_pg_15.png\n",
      "op_chap_405_pg_17.png\n",
      "op_chap_405_pg_5.png\n",
      "op_chap_406_pg_12.png\n",
      "op_chap_407_pg_10.png\n",
      "op_chap_407_pg_12.png\n",
      "op_chap_407_pg_8.png\n",
      "op_chap_408_pg_11.png\n",
      "op_chap_408_pg_15.png\n",
      "op_chap_408_pg_16.png\n",
      "op_chap_409_pg_10.png\n",
      "op_chap_409_pg_16.png\n",
      "op_chap_40_pg_8.png\n",
      "op_chap_410_pg_10.png\n",
      "op_chap_410_pg_25.png\n",
      "op_chap_411_pg_3.png\n",
      "op_chap_411_pg_6.png\n",
      "op_chap_412_pg_18.png\n",
      "op_chap_413_pg_14.png\n",
      "op_chap_413_pg_5.png\n",
      "op_chap_414_pg_11.png\n",
      "op_chap_414_pg_13.png\n",
      "op_chap_414_pg_15.png\n",
      "op_chap_414_pg_6.png\n",
      "op_chap_415_pg_10.png\n",
      "op_chap_415_pg_12.png\n",
      "op_chap_415_pg_17.png\n",
      "op_chap_416_pg_11.png\n",
      "op_chap_416_pg_5.png\n",
      "op_chap_417_pg_10.png\n",
      "op_chap_417_pg_5.png\n",
      "op_chap_417_pg_8.png\n",
      "op_chap_418_pg_10.png\n",
      "op_chap_418_pg_6.png\n",
      "op_chap_419_pg_14.png\n",
      "op_chap_41_pg_12.png\n",
      "op_chap_41_pg_5.png\n",
      "op_chap_41_pg_8.png\n",
      "op_chap_421_pg_17.png\n",
      "op_chap_421_pg_4.png\n",
      "op_chap_422_pg_15.png\n",
      "op_chap_422_pg_3.png\n",
      "op_chap_423_pg_6.png\n",
      "op_chap_424_pg_10.png\n",
      "op_chap_424_pg_12.png\n",
      "op_chap_424_pg_5.png\n",
      "op_chap_425_pg_10.png\n",
      "op_chap_425_pg_12.png\n",
      "op_chap_425_pg_5.png\n",
      "op_chap_426_pg_10.png\n",
      "op_chap_426_pg_5.png\n",
      "op_chap_428_pg_15.png\n",
      "op_chap_428_pg_5.png\n",
      "op_chap_429_pg_7.png\n",
      "op_chap_429_pg_8.png\n",
      "op_chap_42_pg_2.png\n",
      "op_chap_430_pg_12.png\n",
      "op_chap_431_pg_17.png\n",
      "op_chap_431_pg_20.png\n",
      "op_chap_431_pg_23.png\n",
      "op_chap_432_pg_10.png\n",
      "op_chap_432_pg_19.png\n",
      "op_chap_433_pg_15.png\n",
      "op_chap_433_pg_2.png\n",
      "op_chap_434_pg_10.png\n",
      "op_chap_434_pg_16.png\n",
      "op_chap_434_pg_2.png\n",
      "op_chap_434_pg_5.png\n",
      "op_chap_434_pg_6.png\n",
      "op_chap_434_pg_7.png\n",
      "op_chap_435_pg_12.png\n",
      "op_chap_435_pg_3.png\n",
      "op_chap_435_pg_5.png\n",
      "op_chap_436_pg_11.png\n",
      "op_chap_438_pg_12.png\n",
      "op_chap_438_pg_17.png\n",
      "op_chap_438_pg_2.png\n"
     ]
    }
   ],
   "source": [
    "d = 0\n",
    "for json_file in jspaths:\n",
    "    name = json_file.split('/')[-1].split(\".\")[0] + \".png\"\n",
    "    print(name )\n",
    "    if(name == '.png'):\n",
    "      continue\n",
    "    convert(json_file,1600,1066,name)\n",
    "    d = d + 1"
   ]
  },
  {
   "cell_type": "code",
   "execution_count": 15,
   "metadata": {},
   "outputs": [
    {
     "data": {
      "application/vnd.plotly.v1+json": {
       "config": {
        "plotlyServerURL": "https://plot.ly"
       },
       "data": [
        {
         "type": "scatter",
         "x": [
          0,
          0,
          39,
          39,
          0,
          null,
          40,
          40,
          51,
          51,
          40
         ],
         "y": [
          0,
          56,
          56,
          0,
          0,
          null,
          0,
          13,
          13,
          0,
          0
         ]
        }
       ],
       "layout": {
        "images": [
         {
          "source": "C:\\Users\\erika.borelli_skyspe\\Documents\\Brasil\\OnePiece\\thousand_sunny.png",
          "x": 0,
          "y": 56
         }
        ],
        "template": {
         "data": {
          "bar": [
           {
            "error_x": {
             "color": "#2a3f5f"
            },
            "error_y": {
             "color": "#2a3f5f"
            },
            "marker": {
             "line": {
              "color": "#E5ECF6",
              "width": 0.5
             },
             "pattern": {
              "fillmode": "overlay",
              "size": 10,
              "solidity": 0.2
             }
            },
            "type": "bar"
           }
          ],
          "barpolar": [
           {
            "marker": {
             "line": {
              "color": "#E5ECF6",
              "width": 0.5
             },
             "pattern": {
              "fillmode": "overlay",
              "size": 10,
              "solidity": 0.2
             }
            },
            "type": "barpolar"
           }
          ],
          "carpet": [
           {
            "aaxis": {
             "endlinecolor": "#2a3f5f",
             "gridcolor": "white",
             "linecolor": "white",
             "minorgridcolor": "white",
             "startlinecolor": "#2a3f5f"
            },
            "baxis": {
             "endlinecolor": "#2a3f5f",
             "gridcolor": "white",
             "linecolor": "white",
             "minorgridcolor": "white",
             "startlinecolor": "#2a3f5f"
            },
            "type": "carpet"
           }
          ],
          "choropleth": [
           {
            "colorbar": {
             "outlinewidth": 0,
             "ticks": ""
            },
            "type": "choropleth"
           }
          ],
          "contour": [
           {
            "colorbar": {
             "outlinewidth": 0,
             "ticks": ""
            },
            "colorscale": [
             [
              0,
              "#0d0887"
             ],
             [
              0.1111111111111111,
              "#46039f"
             ],
             [
              0.2222222222222222,
              "#7201a8"
             ],
             [
              0.3333333333333333,
              "#9c179e"
             ],
             [
              0.4444444444444444,
              "#bd3786"
             ],
             [
              0.5555555555555556,
              "#d8576b"
             ],
             [
              0.6666666666666666,
              "#ed7953"
             ],
             [
              0.7777777777777778,
              "#fb9f3a"
             ],
             [
              0.8888888888888888,
              "#fdca26"
             ],
             [
              1,
              "#f0f921"
             ]
            ],
            "type": "contour"
           }
          ],
          "contourcarpet": [
           {
            "colorbar": {
             "outlinewidth": 0,
             "ticks": ""
            },
            "type": "contourcarpet"
           }
          ],
          "heatmap": [
           {
            "colorbar": {
             "outlinewidth": 0,
             "ticks": ""
            },
            "colorscale": [
             [
              0,
              "#0d0887"
             ],
             [
              0.1111111111111111,
              "#46039f"
             ],
             [
              0.2222222222222222,
              "#7201a8"
             ],
             [
              0.3333333333333333,
              "#9c179e"
             ],
             [
              0.4444444444444444,
              "#bd3786"
             ],
             [
              0.5555555555555556,
              "#d8576b"
             ],
             [
              0.6666666666666666,
              "#ed7953"
             ],
             [
              0.7777777777777778,
              "#fb9f3a"
             ],
             [
              0.8888888888888888,
              "#fdca26"
             ],
             [
              1,
              "#f0f921"
             ]
            ],
            "type": "heatmap"
           }
          ],
          "heatmapgl": [
           {
            "colorbar": {
             "outlinewidth": 0,
             "ticks": ""
            },
            "colorscale": [
             [
              0,
              "#0d0887"
             ],
             [
              0.1111111111111111,
              "#46039f"
             ],
             [
              0.2222222222222222,
              "#7201a8"
             ],
             [
              0.3333333333333333,
              "#9c179e"
             ],
             [
              0.4444444444444444,
              "#bd3786"
             ],
             [
              0.5555555555555556,
              "#d8576b"
             ],
             [
              0.6666666666666666,
              "#ed7953"
             ],
             [
              0.7777777777777778,
              "#fb9f3a"
             ],
             [
              0.8888888888888888,
              "#fdca26"
             ],
             [
              1,
              "#f0f921"
             ]
            ],
            "type": "heatmapgl"
           }
          ],
          "histogram": [
           {
            "marker": {
             "pattern": {
              "fillmode": "overlay",
              "size": 10,
              "solidity": 0.2
             }
            },
            "type": "histogram"
           }
          ],
          "histogram2d": [
           {
            "colorbar": {
             "outlinewidth": 0,
             "ticks": ""
            },
            "colorscale": [
             [
              0,
              "#0d0887"
             ],
             [
              0.1111111111111111,
              "#46039f"
             ],
             [
              0.2222222222222222,
              "#7201a8"
             ],
             [
              0.3333333333333333,
              "#9c179e"
             ],
             [
              0.4444444444444444,
              "#bd3786"
             ],
             [
              0.5555555555555556,
              "#d8576b"
             ],
             [
              0.6666666666666666,
              "#ed7953"
             ],
             [
              0.7777777777777778,
              "#fb9f3a"
             ],
             [
              0.8888888888888888,
              "#fdca26"
             ],
             [
              1,
              "#f0f921"
             ]
            ],
            "type": "histogram2d"
           }
          ],
          "histogram2dcontour": [
           {
            "colorbar": {
             "outlinewidth": 0,
             "ticks": ""
            },
            "colorscale": [
             [
              0,
              "#0d0887"
             ],
             [
              0.1111111111111111,
              "#46039f"
             ],
             [
              0.2222222222222222,
              "#7201a8"
             ],
             [
              0.3333333333333333,
              "#9c179e"
             ],
             [
              0.4444444444444444,
              "#bd3786"
             ],
             [
              0.5555555555555556,
              "#d8576b"
             ],
             [
              0.6666666666666666,
              "#ed7953"
             ],
             [
              0.7777777777777778,
              "#fb9f3a"
             ],
             [
              0.8888888888888888,
              "#fdca26"
             ],
             [
              1,
              "#f0f921"
             ]
            ],
            "type": "histogram2dcontour"
           }
          ],
          "mesh3d": [
           {
            "colorbar": {
             "outlinewidth": 0,
             "ticks": ""
            },
            "type": "mesh3d"
           }
          ],
          "parcoords": [
           {
            "line": {
             "colorbar": {
              "outlinewidth": 0,
              "ticks": ""
             }
            },
            "type": "parcoords"
           }
          ],
          "pie": [
           {
            "automargin": true,
            "type": "pie"
           }
          ],
          "scatter": [
           {
            "fillpattern": {
             "fillmode": "overlay",
             "size": 10,
             "solidity": 0.2
            },
            "type": "scatter"
           }
          ],
          "scatter3d": [
           {
            "line": {
             "colorbar": {
              "outlinewidth": 0,
              "ticks": ""
             }
            },
            "marker": {
             "colorbar": {
              "outlinewidth": 0,
              "ticks": ""
             }
            },
            "type": "scatter3d"
           }
          ],
          "scattercarpet": [
           {
            "marker": {
             "colorbar": {
              "outlinewidth": 0,
              "ticks": ""
             }
            },
            "type": "scattercarpet"
           }
          ],
          "scattergeo": [
           {
            "marker": {
             "colorbar": {
              "outlinewidth": 0,
              "ticks": ""
             }
            },
            "type": "scattergeo"
           }
          ],
          "scattergl": [
           {
            "marker": {
             "colorbar": {
              "outlinewidth": 0,
              "ticks": ""
             }
            },
            "type": "scattergl"
           }
          ],
          "scattermapbox": [
           {
            "marker": {
             "colorbar": {
              "outlinewidth": 0,
              "ticks": ""
             }
            },
            "type": "scattermapbox"
           }
          ],
          "scatterpolar": [
           {
            "marker": {
             "colorbar": {
              "outlinewidth": 0,
              "ticks": ""
             }
            },
            "type": "scatterpolar"
           }
          ],
          "scatterpolargl": [
           {
            "marker": {
             "colorbar": {
              "outlinewidth": 0,
              "ticks": ""
             }
            },
            "type": "scatterpolargl"
           }
          ],
          "scatterternary": [
           {
            "marker": {
             "colorbar": {
              "outlinewidth": 0,
              "ticks": ""
             }
            },
            "type": "scatterternary"
           }
          ],
          "surface": [
           {
            "colorbar": {
             "outlinewidth": 0,
             "ticks": ""
            },
            "colorscale": [
             [
              0,
              "#0d0887"
             ],
             [
              0.1111111111111111,
              "#46039f"
             ],
             [
              0.2222222222222222,
              "#7201a8"
             ],
             [
              0.3333333333333333,
              "#9c179e"
             ],
             [
              0.4444444444444444,
              "#bd3786"
             ],
             [
              0.5555555555555556,
              "#d8576b"
             ],
             [
              0.6666666666666666,
              "#ed7953"
             ],
             [
              0.7777777777777778,
              "#fb9f3a"
             ],
             [
              0.8888888888888888,
              "#fdca26"
             ],
             [
              1,
              "#f0f921"
             ]
            ],
            "type": "surface"
           }
          ],
          "table": [
           {
            "cells": {
             "fill": {
              "color": "#EBF0F8"
             },
             "line": {
              "color": "white"
             }
            },
            "header": {
             "fill": {
              "color": "#C8D4E3"
             },
             "line": {
              "color": "white"
             }
            },
            "type": "table"
           }
          ]
         },
         "layout": {
          "annotationdefaults": {
           "arrowcolor": "#2a3f5f",
           "arrowhead": 0,
           "arrowwidth": 1
          },
          "autotypenumbers": "strict",
          "coloraxis": {
           "colorbar": {
            "outlinewidth": 0,
            "ticks": ""
           }
          },
          "colorscale": {
           "diverging": [
            [
             0,
             "#8e0152"
            ],
            [
             0.1,
             "#c51b7d"
            ],
            [
             0.2,
             "#de77ae"
            ],
            [
             0.3,
             "#f1b6da"
            ],
            [
             0.4,
             "#fde0ef"
            ],
            [
             0.5,
             "#f7f7f7"
            ],
            [
             0.6,
             "#e6f5d0"
            ],
            [
             0.7,
             "#b8e186"
            ],
            [
             0.8,
             "#7fbc41"
            ],
            [
             0.9,
             "#4d9221"
            ],
            [
             1,
             "#276419"
            ]
           ],
           "sequential": [
            [
             0,
             "#0d0887"
            ],
            [
             0.1111111111111111,
             "#46039f"
            ],
            [
             0.2222222222222222,
             "#7201a8"
            ],
            [
             0.3333333333333333,
             "#9c179e"
            ],
            [
             0.4444444444444444,
             "#bd3786"
            ],
            [
             0.5555555555555556,
             "#d8576b"
            ],
            [
             0.6666666666666666,
             "#ed7953"
            ],
            [
             0.7777777777777778,
             "#fb9f3a"
            ],
            [
             0.8888888888888888,
             "#fdca26"
            ],
            [
             1,
             "#f0f921"
            ]
           ],
           "sequentialminus": [
            [
             0,
             "#0d0887"
            ],
            [
             0.1111111111111111,
             "#46039f"
            ],
            [
             0.2222222222222222,
             "#7201a8"
            ],
            [
             0.3333333333333333,
             "#9c179e"
            ],
            [
             0.4444444444444444,
             "#bd3786"
            ],
            [
             0.5555555555555556,
             "#d8576b"
            ],
            [
             0.6666666666666666,
             "#ed7953"
            ],
            [
             0.7777777777777778,
             "#fb9f3a"
            ],
            [
             0.8888888888888888,
             "#fdca26"
            ],
            [
             1,
             "#f0f921"
            ]
           ]
          },
          "colorway": [
           "#636efa",
           "#EF553B",
           "#00cc96",
           "#ab63fa",
           "#FFA15A",
           "#19d3f3",
           "#FF6692",
           "#B6E880",
           "#FF97FF",
           "#FECB52"
          ],
          "font": {
           "color": "#2a3f5f"
          },
          "geo": {
           "bgcolor": "white",
           "lakecolor": "white",
           "landcolor": "#E5ECF6",
           "showlakes": true,
           "showland": true,
           "subunitcolor": "white"
          },
          "hoverlabel": {
           "align": "left"
          },
          "hovermode": "closest",
          "mapbox": {
           "style": "light"
          },
          "paper_bgcolor": "white",
          "plot_bgcolor": "#E5ECF6",
          "polar": {
           "angularaxis": {
            "gridcolor": "white",
            "linecolor": "white",
            "ticks": ""
           },
           "bgcolor": "#E5ECF6",
           "radialaxis": {
            "gridcolor": "white",
            "linecolor": "white",
            "ticks": ""
           }
          },
          "scene": {
           "xaxis": {
            "backgroundcolor": "#E5ECF6",
            "gridcolor": "white",
            "gridwidth": 2,
            "linecolor": "white",
            "showbackground": true,
            "ticks": "",
            "zerolinecolor": "white"
           },
           "yaxis": {
            "backgroundcolor": "#E5ECF6",
            "gridcolor": "white",
            "gridwidth": 2,
            "linecolor": "white",
            "showbackground": true,
            "ticks": "",
            "zerolinecolor": "white"
           },
           "zaxis": {
            "backgroundcolor": "#E5ECF6",
            "gridcolor": "white",
            "gridwidth": 2,
            "linecolor": "white",
            "showbackground": true,
            "ticks": "",
            "zerolinecolor": "white"
           }
          },
          "shapedefaults": {
           "line": {
            "color": "#2a3f5f"
           }
          },
          "ternary": {
           "aaxis": {
            "gridcolor": "white",
            "linecolor": "white",
            "ticks": ""
           },
           "baxis": {
            "gridcolor": "white",
            "linecolor": "white",
            "ticks": ""
           },
           "bgcolor": "#E5ECF6",
           "caxis": {
            "gridcolor": "white",
            "linecolor": "white",
            "ticks": ""
           }
          },
          "title": {
           "x": 0.05
          },
          "xaxis": {
           "automargin": true,
           "gridcolor": "white",
           "linecolor": "white",
           "ticks": "",
           "title": {
            "standoff": 15
           },
           "zerolinecolor": "white",
           "zerolinewidth": 2
          },
          "yaxis": {
           "automargin": true,
           "gridcolor": "white",
           "linecolor": "white",
           "ticks": "",
           "title": {
            "standoff": 15
           },
           "zerolinecolor": "white",
           "zerolinewidth": 2
          }
         }
        }
       }
      }
     },
     "metadata": {},
     "output_type": "display_data"
    }
   ],
   "source": [
    "import plotly.express as px\n",
    "import plotly.graph_objects as go\n",
    "\n",
    "df = pd.DataFrame( {'x' : [0,0, 39,39, 0,None,  40, 40, 51, 51, 40],\n",
    "                    'y' : [0,56,56,0, 0,None, 0,13,13,0, 0],\n",
    "                    'ship' : ['Thousand Sunny', 'Thousand Sunny', 'Thousand Sunny', 'Thousand Sunny', 'Thousand Sunny',\n",
    "                              None,\n",
    "                              'Going Merry', 'Going Merry', 'Going Merry', 'Going Merry', 'Going Merry']})\n",
    "\n",
    "fig = go.Figure(go.Scatter(x = df.x, y = df.y))\n",
    "\n",
    "fig.add_layout_image(\n",
    "    dict(\n",
    "        source = \"C:\\\\Users\\\\erika.borelli_skyspe\\\\Documents\\\\Brasil\\\\OnePiece\\\\thousand_sunny.png\",\n",
    "        x = 0,\n",
    "        y = 56\n",
    "    )\n",
    ")\n",
    "fig.show()"
   ]
  }
 ],
 "metadata": {
  "kernelspec": {
   "display_name": "labelme",
   "language": "python",
   "name": "python3"
  },
  "language_info": {
   "codemirror_mode": {
    "name": "ipython",
    "version": 3
   },
   "file_extension": ".py",
   "mimetype": "text/x-python",
   "name": "python",
   "nbconvert_exporter": "python",
   "pygments_lexer": "ipython3",
   "version": "3.11.5"
  },
  "orig_nbformat": 4
 },
 "nbformat": 4,
 "nbformat_minor": 2
}
